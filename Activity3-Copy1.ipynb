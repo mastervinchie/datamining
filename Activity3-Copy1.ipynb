{
 "cells": [
  {
   "cell_type": "code",
   "execution_count": 1,
   "id": "77182d3f-89fa-4171-a1b3-80df948cbad0",
   "metadata": {},
   "outputs": [],
   "source": [
    "import pandas as pd\n",
    "import numpy as np\n",
    "import seaborn as sns\n",
    "import matplotlib.pyplot as plt\n",
    "from scipy.stats import f_oneway\n",
    "import warnings\n",
    "warnings.filterwarnings('ignore')"
   ]
  },
  {
   "cell_type": "markdown",
   "id": "fe74d4be-bd93-4900-9707-d5e9959218c5",
   "metadata": {},
   "source": [
    "# Data Frame"
   ]
  },
  {
   "cell_type": "code",
   "execution_count": 2,
   "id": "ade26fae-6bbe-4bb2-9709-5aa19f7413e7",
   "metadata": {},
   "outputs": [],
   "source": [
    "accident = pd.read_csv('DATASETS\\\\accident_data.csv')"
   ]
  },
  {
   "cell_type": "code",
   "execution_count": 3,
   "id": "83b113f6-2bdd-4412-a2d5-2fb2aeeb69bb",
   "metadata": {},
   "outputs": [
    {
     "name": "stdout",
     "output_type": "stream",
     "text": [
      "<class 'pandas.core.frame.DataFrame'>\n",
      "RangeIndex: 660679 entries, 0 to 660678\n",
      "Data columns (total 14 columns):\n",
      " #   Column                   Non-Null Count   Dtype  \n",
      "---  ------                   --------------   -----  \n",
      " 0   Index                    660679 non-null  object \n",
      " 1   Accident_Severity        660679 non-null  object \n",
      " 2   Accident Date            660679 non-null  object \n",
      " 3   Latitude                 660654 non-null  float64\n",
      " 4   Light_Conditions         660679 non-null  object \n",
      " 5   District Area            660679 non-null  object \n",
      " 6   Longitude                660653 non-null  float64\n",
      " 7   Number_of_Casualties     660679 non-null  int64  \n",
      " 8   Number_of_Vehicles       660679 non-null  int64  \n",
      " 9   Road_Surface_Conditions  659953 non-null  object \n",
      " 10  Road_Type                656159 non-null  object \n",
      " 11  Urban_or_Rural_Area      660664 non-null  object \n",
      " 12  Weather_Conditions       646551 non-null  object \n",
      " 13  Vehicle_Type             660679 non-null  object \n",
      "dtypes: float64(2), int64(2), object(10)\n",
      "memory usage: 70.6+ MB\n"
     ]
    }
   ],
   "source": [
    "accident.info()"
   ]
  },
  {
   "cell_type": "code",
   "execution_count": 4,
   "id": "35166d76-4f38-45a7-b247-53d52b593f68",
   "metadata": {},
   "outputs": [],
   "source": [
    "accident['Latitude'] = accident['Latitude'].fillna(accident['Latitude'].mode()[0])\n",
    "accident['Longitude'] = accident['Longitude'].fillna(accident['Longitude'].mode()[0])\n",
    "accident['Road_Surface_Conditions'] = accident['Road_Surface_Conditions'].fillna(accident['Road_Surface_Conditions'].mode()[0])\n",
    "accident['Road_Type'] = accident['Road_Type'].fillna(accident['Road_Type'].mode()[0])\n",
    "accident['Weather_Conditions'] = accident['Weather_Conditions'].fillna(accident['Weather_Conditions'].mode()[0])\n",
    "accident['Urban_or_Rural_Area'] = accident['Urban_or_Rural_Area'].fillna(accident['Urban_or_Rural_Area'].mode()[0])\n",
    "                                                                                                      "
   ]
  },
  {
   "cell_type": "code",
   "execution_count": 5,
   "id": "f3d99319-87b3-4473-8096-22035a3ae2b6",
   "metadata": {},
   "outputs": [],
   "source": [
    "accident['Accident Date'] = accident['Accident Date'].astype('str')\n",
    "accident['Accident Date'] = accident['Accident Date'].str.strip()\n",
    "accident['Accident Date'] = accident['Accident Date'].str.replace('/', '-')"
   ]
  },
  {
   "cell_type": "markdown",
   "id": "91e1a326-722f-4a75-864b-510450bc2e7f",
   "metadata": {},
   "source": [
    "# Convert Date "
   ]
  },
  {
   "cell_type": "code",
   "execution_count": 6,
   "id": "91fe5779-71ae-474c-b87c-6cd542420976",
   "metadata": {},
   "outputs": [],
   "source": [
    "accident['Accident Date'] = pd.to_datetime(accident['Accident Date'], dayfirst = True, errors = 'coerce')"
   ]
  },
  {
   "cell_type": "code",
   "execution_count": 7,
   "id": "953b9226-091e-48c2-af9e-55bf16dc9e85",
   "metadata": {},
   "outputs": [],
   "source": [
    "accident['Year'] = accident['Accident Date'].dt.year\n",
    "accident['Month'] = accident['Accident Date'].dt.month\n",
    "accident['Day'] = accident['Accident Date'].dt.day\n",
    "accident['DayOfWeek'] = accident['Accident Date'].dt.dayofweek"
   ]
  },
  {
   "cell_type": "code",
   "execution_count": null,
   "id": "0b05fb02-26e2-421f-bb6f-d49a47640fc9",
   "metadata": {},
   "outputs": [],
   "source": []
  },
  {
   "cell_type": "code",
   "execution_count": 8,
   "id": "2c16b845-d4bc-4950-903b-73d21348e112",
   "metadata": {},
   "outputs": [
    {
     "data": {
      "text/plain": [
       "Index                      0\n",
       "Accident_Severity          0\n",
       "Accident Date              0\n",
       "Latitude                   0\n",
       "Light_Conditions           0\n",
       "District Area              0\n",
       "Longitude                  0\n",
       "Number_of_Casualties       0\n",
       "Number_of_Vehicles         0\n",
       "Road_Surface_Conditions    0\n",
       "Road_Type                  0\n",
       "Urban_or_Rural_Area        0\n",
       "Weather_Conditions         0\n",
       "Vehicle_Type               0\n",
       "Year                       0\n",
       "Month                      0\n",
       "Day                        0\n",
       "DayOfWeek                  0\n",
       "dtype: int64"
      ]
     },
     "execution_count": 8,
     "metadata": {},
     "output_type": "execute_result"
    }
   ],
   "source": [
    "accident.isnull().sum()"
   ]
  },
  {
   "cell_type": "code",
   "execution_count": 9,
   "id": "b5747616-ed36-46eb-b9b4-2db06e884ffe",
   "metadata": {},
   "outputs": [
    {
     "data": {
      "text/plain": [
       "Index                              object\n",
       "Accident_Severity                  object\n",
       "Accident Date              datetime64[ns]\n",
       "Latitude                          float64\n",
       "Light_Conditions                   object\n",
       "District Area                      object\n",
       "Longitude                         float64\n",
       "Number_of_Casualties                int64\n",
       "Number_of_Vehicles                  int64\n",
       "Road_Surface_Conditions            object\n",
       "Road_Type                          object\n",
       "Urban_or_Rural_Area                object\n",
       "Weather_Conditions                 object\n",
       "Vehicle_Type                       object\n",
       "Year                                int32\n",
       "Month                               int32\n",
       "Day                                 int32\n",
       "DayOfWeek                           int32\n",
       "dtype: object"
      ]
     },
     "execution_count": 9,
     "metadata": {},
     "output_type": "execute_result"
    }
   ],
   "source": [
    "accident.dtypes"
   ]
  },
  {
   "cell_type": "code",
   "execution_count": 10,
   "id": "ff3c5bde-c902-4237-9722-d3f5a737968f",
   "metadata": {},
   "outputs": [],
   "source": [
    "accident['Accident_Severity'] = accident['Accident_Severity'].astype('category')"
   ]
  },
  {
   "cell_type": "code",
   "execution_count": 11,
   "id": "cd2dcf14-8ccb-4b30-b90d-2a20e98106b8",
   "metadata": {},
   "outputs": [],
   "source": [
    "accident['Light_Conditions'] = accident['Light_Conditions'].astype('category')"
   ]
  },
  {
   "cell_type": "code",
   "execution_count": 12,
   "id": "086a5047-a266-46d4-821e-435865c5d6dd",
   "metadata": {},
   "outputs": [],
   "source": [
    "accident['District Area'] = accident['District Area'].astype('category')"
   ]
  },
  {
   "cell_type": "code",
   "execution_count": 13,
   "id": "e7e5d5a0-b6f3-4350-bb69-8b5c59b5c314",
   "metadata": {},
   "outputs": [],
   "source": [
    "accident['Number_of_Casualties'] = accident['Number_of_Casualties'].astype('category')"
   ]
  },
  {
   "cell_type": "code",
   "execution_count": 14,
   "id": "a2652d40-7c53-4f91-aeba-8b599e2d65c8",
   "metadata": {},
   "outputs": [],
   "source": [
    "accident['Number_of_Vehicles'] = accident['Number_of_Vehicles'].astype('category')"
   ]
  },
  {
   "cell_type": "code",
   "execution_count": 15,
   "id": "d9cf7f1b-8d39-416d-9a57-36d857602821",
   "metadata": {},
   "outputs": [],
   "source": [
    "accident['Road_Surface_Conditions'] = accident['Road_Surface_Conditions'].astype('category')"
   ]
  },
  {
   "cell_type": "code",
   "execution_count": 16,
   "id": "e65f90f3-8e60-4cca-a439-32d363e44dcd",
   "metadata": {},
   "outputs": [],
   "source": [
    "accident['Road_Type'] = accident['Road_Type'].astype('category')"
   ]
  },
  {
   "cell_type": "code",
   "execution_count": 17,
   "id": "d4d8c426-345d-4f59-b3e7-16b8db4c206c",
   "metadata": {},
   "outputs": [],
   "source": [
    "accident['Urban_or_Rural_Area'] = accident['Urban_or_Rural_Area'].astype('category')"
   ]
  },
  {
   "cell_type": "code",
   "execution_count": 18,
   "id": "398871fc-4ff0-4e8f-89c9-c48935d37e02",
   "metadata": {},
   "outputs": [],
   "source": [
    "accident['Weather_Conditions'] = accident['Weather_Conditions'].astype('category')\n"
   ]
  },
  {
   "cell_type": "code",
   "execution_count": 19,
   "id": "40da069a-9c07-4423-b209-66d2bdc3d1b8",
   "metadata": {},
   "outputs": [],
   "source": [
    "accident['Accident_Severity'] = accident['Accident_Severity'].astype('category')"
   ]
  },
  {
   "cell_type": "code",
   "execution_count": 20,
   "id": "3daa3c7d-0613-46dd-b6df-50b46cada3d8",
   "metadata": {},
   "outputs": [],
   "source": [
    "accident['Vehicle_Type'] = accident['Vehicle_Type'].astype('category')"
   ]
  },
  {
   "cell_type": "code",
   "execution_count": 21,
   "id": "c456ccfa-3c67-4e80-80cb-11e132149a93",
   "metadata": {},
   "outputs": [],
   "source": [
    "accident['Latitude'] = accident['Latitude'].astype('category')"
   ]
  },
  {
   "cell_type": "code",
   "execution_count": 22,
   "id": "e99a8f47-c39a-4c66-b0d6-1ed8bfb25f0c",
   "metadata": {},
   "outputs": [],
   "source": [
    "accident['Longitude'] = accident['Longitude'].astype('category')"
   ]
  },
  {
   "cell_type": "code",
   "execution_count": 23,
   "id": "987b8cbd-31fb-4dfa-9a9d-9693cd004caf",
   "metadata": {},
   "outputs": [],
   "source": [
    "accident['Year'] = accident['Year'].astype('category')\n"
   ]
  },
  {
   "cell_type": "code",
   "execution_count": 24,
   "id": "3a244c54-760c-4285-89a4-052d1bdd2f80",
   "metadata": {},
   "outputs": [],
   "source": [
    "accident['Month'] = accident['Month'].astype('category')"
   ]
  },
  {
   "cell_type": "code",
   "execution_count": 25,
   "id": "86e53960-c5d0-4f9b-8af3-539f33ff8f7b",
   "metadata": {},
   "outputs": [],
   "source": [
    "accident['Day'] = accident['Day'].astype('category')"
   ]
  },
  {
   "cell_type": "code",
   "execution_count": 26,
   "id": "7dba1e09-1661-4a59-9c3f-dcf5083f3ddc",
   "metadata": {},
   "outputs": [],
   "source": [
    "accident['DayOfWeek'] = accident['DayOfWeek'].astype('category')"
   ]
  },
  {
   "cell_type": "code",
   "execution_count": 27,
   "id": "9e4a6702-9bbe-4ab9-831b-96bd5074d8da",
   "metadata": {},
   "outputs": [
    {
     "data": {
      "text/plain": [
       "Index                              object\n",
       "Accident_Severity                category\n",
       "Accident Date              datetime64[ns]\n",
       "Latitude                         category\n",
       "Light_Conditions                 category\n",
       "District Area                    category\n",
       "Longitude                        category\n",
       "Number_of_Casualties             category\n",
       "Number_of_Vehicles               category\n",
       "Road_Surface_Conditions          category\n",
       "Road_Type                        category\n",
       "Urban_or_Rural_Area              category\n",
       "Weather_Conditions               category\n",
       "Vehicle_Type                     category\n",
       "Year                             category\n",
       "Month                            category\n",
       "Day                              category\n",
       "DayOfWeek                        category\n",
       "dtype: object"
      ]
     },
     "execution_count": 27,
     "metadata": {},
     "output_type": "execute_result"
    }
   ],
   "source": [
    "accident.dtypes\n"
   ]
  },
  {
   "cell_type": "markdown",
   "id": "aed8b8cd-53c8-40c0-8444-8c06417f189a",
   "metadata": {},
   "source": [
    "# #1 What date has a more accident rate ?"
   ]
  },
  {
   "cell_type": "code",
   "execution_count": 28,
   "id": "6f7aaf33-b8d4-4654-b69b-0d3d3baf2007",
   "metadata": {},
   "outputs": [
    {
     "data": {
      "text/plain": [
       "Timestamp('2019-11-30 00:00:00')"
      ]
     },
     "execution_count": 28,
     "metadata": {},
     "output_type": "execute_result"
    }
   ],
   "source": [
    "accident['Accident Date'].mode()[0]\n"
   ]
  },
  {
   "cell_type": "markdown",
   "id": "7228a5dd-3bdd-4e14-9961-857fa33f65bf",
   "metadata": {},
   "source": [
    "# INSIGTH#1\n",
    "\n",
    "# Most accident happens on 2021-02-11\n"
   ]
  },
  {
   "cell_type": "markdown",
   "id": "c0f6279b-1ef1-469c-8c47-7882addd8e55",
   "metadata": {},
   "source": [
    "# #2 What district is commonly involve in accidents?"
   ]
  },
  {
   "cell_type": "code",
   "execution_count": 29,
   "id": "6596fad1-1c61-42c3-84f7-60a6e5f5d82f",
   "metadata": {},
   "outputs": [
    {
     "data": {
      "text/plain": [
       "'Birmingham'"
      ]
     },
     "execution_count": 29,
     "metadata": {},
     "output_type": "execute_result"
    }
   ],
   "source": [
    "district_accident = accident['District Area'].mode()[0]\n",
    "district_accident"
   ]
  },
  {
   "cell_type": "markdown",
   "id": "7caf1fd5-c83e-4940-9732-5c6fd811a77e",
   "metadata": {},
   "source": [
    "# INSIGTH#2 \n",
    "\n",
    "# So most accidents happen on the 'Birmingham' district"
   ]
  },
  {
   "cell_type": "markdown",
   "id": "9f31e12b-01d6-42f6-822a-619532909c3e",
   "metadata": {},
   "source": [
    "# #3 What common location has more accident probability?"
   ]
  },
  {
   "cell_type": "code",
   "execution_count": 30,
   "id": "d259bc55-9c45-4cb8-86a0-d183a810acd1",
   "metadata": {},
   "outputs": [
    {
     "data": {
      "text/plain": [
       "'Urban'"
      ]
     },
     "execution_count": 30,
     "metadata": {},
     "output_type": "execute_result"
    }
   ],
   "source": [
    "accident['Urban_or_Rural_Area'].mode()[0]"
   ]
  },
  {
   "cell_type": "markdown",
   "id": "f7a28db2-86d4-4023-b95a-6f0bd23e41be",
   "metadata": {},
   "source": [
    "# INSIGTH #3 \n",
    "# So most accident happens on Urban "
   ]
  },
  {
   "cell_type": "code",
   "execution_count": 31,
   "id": "709e771b-42e8-4172-9a5e-406c822e22f6",
   "metadata": {},
   "outputs": [],
   "source": [
    "df_2019 = accident[accident['Year'] == 2019]\n"
   ]
  },
  {
   "cell_type": "code",
   "execution_count": 32,
   "id": "cf4f0b78-d96d-4410-80c2-0008855734ce",
   "metadata": {},
   "outputs": [
    {
     "name": "stdout",
     "output_type": "stream",
     "text": [
      "total number of accident in 2019 is 182115\n"
     ]
    },
    {
     "data": {
      "text/plain": [
       "Light_Conditions\n",
       "Daylight                       133042\n",
       "Darkness - lights lit           35769\n",
       "Darkness - no lighting          10842\n",
       "Darkness - lighting unknown      1768\n",
       "Darkness - lights unlit           694\n",
       "Name: count, dtype: int64"
      ]
     },
     "execution_count": 32,
     "metadata": {},
     "output_type": "execute_result"
    }
   ],
   "source": [
    "print(f\"total number of accident in 2019 is {df_2019['Light_Conditions'].value_counts().sum()}\")\n",
    "df_2019['Light_Conditions'].value_counts()"
   ]
  },
  {
   "cell_type": "markdown",
   "id": "8e9856b5-c902-4793-9e2c-e631bec075c8",
   "metadata": {},
   "source": [
    "# INSIGTH# 4\n",
    "# Contrary to popular belief that most accident happens in darkness or at nigth time, most of accident happens on board daytime. About 73% of total accidents happens during daylight"
   ]
  },
  {
   "cell_type": "code",
   "execution_count": 33,
   "id": "dde68733-50c1-46e1-8813-3a4efe862577",
   "metadata": {},
   "outputs": [
    {
     "data": {
      "text/plain": [
       "Weather_Conditions\n",
       "Fine no high winds       148010\n",
       "Raining no high winds     22835\n",
       "Other                      4083\n",
       "Raining + high winds       2959\n",
       "Fine + high winds          2545\n",
       "Fog or mist                 857\n",
       "Snowing no high winds       680\n",
       "Snowing + high winds        146\n",
       "Name: count, dtype: int64"
      ]
     },
     "execution_count": 33,
     "metadata": {},
     "output_type": "execute_result"
    }
   ],
   "source": [
    "df_2019['Weather_Conditions'].value_counts()"
   ]
  },
  {
   "cell_type": "markdown",
   "id": "b05a3705-f1ef-4629-834d-dc941da62ce8",
   "metadata": {},
   "source": [
    "# INSIGTH # 5\n",
    "# Out of 182,115 accidents recorded. 79% occured under fine. This indicates that majority of the accidents happen on 2019 happens not because of the bad weather."
   ]
  },
  {
   "cell_type": "code",
   "execution_count": 34,
   "id": "9b7da754-6fc1-4b17-ac70-5aaa77aeed10",
   "metadata": {},
   "outputs": [
    {
     "data": {
      "text/plain": [
       "Weather_Conditions     Vehicle_Type                        \n",
       "Fine + high winds      Agricultural vehicle                       6\n",
       "                       Bus or coach (17 or more pass seats)     157\n",
       "                       Car                                     1817\n",
       "                       Data missing or out of range               0\n",
       "                       Goods 7.5 tonnes mgw and over             96\n",
       "                                                               ... \n",
       "Snowing no high winds  Other vehicle                              2\n",
       "                       Pedal cycle                                0\n",
       "                       Ridden horse                               0\n",
       "                       Taxi/Private hire car                     20\n",
       "                       Van / Goods 3.5 tonnes mgw or under       24\n",
       "Name: Number_of_Casualties, Length: 128, dtype: int64"
      ]
     },
     "execution_count": 34,
     "metadata": {},
     "output_type": "execute_result"
    }
   ],
   "source": [
    "casualty_2019 = df_2019.groupby(['Weather_Conditions', 'Vehicle_Type'])['Number_of_Casualties'].count()\n",
    "casualty_2019"
   ]
  },
  {
   "cell_type": "code",
   "execution_count": 35,
   "id": "4d94a34f-583b-4377-8a3b-f26c3d9391ea",
   "metadata": {},
   "outputs": [],
   "source": [
    "df_exam3 = df_2019[df_2019['Weather_Conditions'] == 'Fine no high Winds']"
   ]
  },
  {
   "cell_type": "code",
   "execution_count": 36,
   "id": "331a4204-a555-4208-88df-3cd7a7e3b0f1",
   "metadata": {},
   "outputs": [
    {
     "data": {
      "text/html": [
       "<div>\n",
       "<style scoped>\n",
       "    .dataframe tbody tr th:only-of-type {\n",
       "        vertical-align: middle;\n",
       "    }\n",
       "\n",
       "    .dataframe tbody tr th {\n",
       "        vertical-align: top;\n",
       "    }\n",
       "\n",
       "    .dataframe thead th {\n",
       "        text-align: right;\n",
       "    }\n",
       "</style>\n",
       "<table border=\"1\" class=\"dataframe\">\n",
       "  <thead>\n",
       "    <tr style=\"text-align: right;\">\n",
       "      <th>Urban_or_Rural_Area</th>\n",
       "      <th>Rural</th>\n",
       "      <th>Unallocated</th>\n",
       "      <th>Urban</th>\n",
       "    </tr>\n",
       "    <tr>\n",
       "      <th>Vehicle_Type</th>\n",
       "      <th></th>\n",
       "      <th></th>\n",
       "      <th></th>\n",
       "    </tr>\n",
       "  </thead>\n",
       "  <tbody>\n",
       "    <tr>\n",
       "      <th>Agricultural vehicle</th>\n",
       "      <td>0</td>\n",
       "      <td>0</td>\n",
       "      <td>0</td>\n",
       "    </tr>\n",
       "    <tr>\n",
       "      <th>Bus or coach (17 or more pass seats)</th>\n",
       "      <td>0</td>\n",
       "      <td>0</td>\n",
       "      <td>0</td>\n",
       "    </tr>\n",
       "    <tr>\n",
       "      <th>Car</th>\n",
       "      <td>0</td>\n",
       "      <td>0</td>\n",
       "      <td>0</td>\n",
       "    </tr>\n",
       "    <tr>\n",
       "      <th>Data missing or out of range</th>\n",
       "      <td>0</td>\n",
       "      <td>0</td>\n",
       "      <td>0</td>\n",
       "    </tr>\n",
       "    <tr>\n",
       "      <th>Goods 7.5 tonnes mgw and over</th>\n",
       "      <td>0</td>\n",
       "      <td>0</td>\n",
       "      <td>0</td>\n",
       "    </tr>\n",
       "    <tr>\n",
       "      <th>Goods over 3.5t. and under 7.5t</th>\n",
       "      <td>0</td>\n",
       "      <td>0</td>\n",
       "      <td>0</td>\n",
       "    </tr>\n",
       "    <tr>\n",
       "      <th>Minibus (8 - 16 passenger seats)</th>\n",
       "      <td>0</td>\n",
       "      <td>0</td>\n",
       "      <td>0</td>\n",
       "    </tr>\n",
       "    <tr>\n",
       "      <th>Motorcycle 125cc and under</th>\n",
       "      <td>0</td>\n",
       "      <td>0</td>\n",
       "      <td>0</td>\n",
       "    </tr>\n",
       "    <tr>\n",
       "      <th>Motorcycle 50cc and under</th>\n",
       "      <td>0</td>\n",
       "      <td>0</td>\n",
       "      <td>0</td>\n",
       "    </tr>\n",
       "    <tr>\n",
       "      <th>Motorcycle over 125cc and up to 500cc</th>\n",
       "      <td>0</td>\n",
       "      <td>0</td>\n",
       "      <td>0</td>\n",
       "    </tr>\n",
       "    <tr>\n",
       "      <th>Motorcycle over 500cc</th>\n",
       "      <td>0</td>\n",
       "      <td>0</td>\n",
       "      <td>0</td>\n",
       "    </tr>\n",
       "    <tr>\n",
       "      <th>Other vehicle</th>\n",
       "      <td>0</td>\n",
       "      <td>0</td>\n",
       "      <td>0</td>\n",
       "    </tr>\n",
       "    <tr>\n",
       "      <th>Pedal cycle</th>\n",
       "      <td>0</td>\n",
       "      <td>0</td>\n",
       "      <td>0</td>\n",
       "    </tr>\n",
       "    <tr>\n",
       "      <th>Ridden horse</th>\n",
       "      <td>0</td>\n",
       "      <td>0</td>\n",
       "      <td>0</td>\n",
       "    </tr>\n",
       "    <tr>\n",
       "      <th>Taxi/Private hire car</th>\n",
       "      <td>0</td>\n",
       "      <td>0</td>\n",
       "      <td>0</td>\n",
       "    </tr>\n",
       "    <tr>\n",
       "      <th>Van / Goods 3.5 tonnes mgw or under</th>\n",
       "      <td>0</td>\n",
       "      <td>0</td>\n",
       "      <td>0</td>\n",
       "    </tr>\n",
       "  </tbody>\n",
       "</table>\n",
       "</div>"
      ],
      "text/plain": [
       "Urban_or_Rural_Area                    Rural  Unallocated  Urban\n",
       "Vehicle_Type                                                    \n",
       "Agricultural vehicle                       0            0      0\n",
       "Bus or coach (17 or more pass seats)       0            0      0\n",
       "Car                                        0            0      0\n",
       "Data missing or out of range               0            0      0\n",
       "Goods 7.5 tonnes mgw and over              0            0      0\n",
       "Goods over 3.5t. and under 7.5t            0            0      0\n",
       "Minibus (8 - 16 passenger seats)           0            0      0\n",
       "Motorcycle 125cc and under                 0            0      0\n",
       "Motorcycle 50cc and under                  0            0      0\n",
       "Motorcycle over 125cc and up to 500cc      0            0      0\n",
       "Motorcycle over 500cc                      0            0      0\n",
       "Other vehicle                              0            0      0\n",
       "Pedal cycle                                0            0      0\n",
       "Ridden horse                               0            0      0\n",
       "Taxi/Private hire car                      0            0      0\n",
       "Van / Goods 3.5 tonnes mgw or under        0            0      0"
      ]
     },
     "execution_count": 36,
     "metadata": {},
     "output_type": "execute_result"
    }
   ],
   "source": [
    "df_exam4 = df_exam3.groupby(['Vehicle_Type','Urban_or_Rural_Area'])['Number_of_Casualties'].size()\n",
    "df_exam4.unstack()"
   ]
  },
  {
   "cell_type": "markdown",
   "id": "12fe0a0d-063d-451c-a71d-ab3fe1f02609",
   "metadata": {},
   "source": [
    "# INSIGTH # 6 \n",
    "# On 2019, upon closer examination of the vehicle type accidents, most of the accident was in the vehicle type 'Car', 37,652 accidents or 20% of the total of the accident happens on Rural Area."
   ]
  },
  {
   "cell_type": "markdown",
   "id": "ab4074b2-7bfa-4d3f-bac7-5ba4e7567b2d",
   "metadata": {},
   "source": [
    "# INSIGTH # 7\n",
    "# About 81% of the accident happened on Rural Areas by a Car were clasiofied as 'Sligth', in terms of severity. And les than 20% are Fatal."
   ]
  },
  {
   "cell_type": "markdown",
   "id": "8793926b-67cb-445b-b2df-fca6ba9adba9",
   "metadata": {},
   "source": [
    "# INSIGTH # 8\n",
    "# In contrast , 35.8% of all accidents happened on 2019  or almost 64.248 incidents involve Car in Urban Area a notably higher figure. AND About 86.6% accident ended up in Sligth severity\n"
   ]
  },
  {
   "cell_type": "code",
   "execution_count": 37,
   "id": "65555cef-9fd0-4a50-8255-35ef041d623c",
   "metadata": {},
   "outputs": [
    {
     "name": "stdout",
     "output_type": "stream",
     "text": [
      "<class 'pandas.core.frame.DataFrame'>\n",
      "RangeIndex: 660679 entries, 0 to 660678\n",
      "Data columns (total 18 columns):\n",
      " #   Column                   Non-Null Count   Dtype         \n",
      "---  ------                   --------------   -----         \n",
      " 0   Index                    660679 non-null  object        \n",
      " 1   Accident_Severity        660679 non-null  category      \n",
      " 2   Accident Date            660679 non-null  datetime64[ns]\n",
      " 3   Latitude                 660679 non-null  category      \n",
      " 4   Light_Conditions         660679 non-null  category      \n",
      " 5   District Area            660679 non-null  category      \n",
      " 6   Longitude                660679 non-null  category      \n",
      " 7   Number_of_Casualties     660679 non-null  category      \n",
      " 8   Number_of_Vehicles       660679 non-null  category      \n",
      " 9   Road_Surface_Conditions  660679 non-null  category      \n",
      " 10  Road_Type                660679 non-null  category      \n",
      " 11  Urban_or_Rural_Area      660679 non-null  category      \n",
      " 12  Weather_Conditions       660679 non-null  category      \n",
      " 13  Vehicle_Type             660679 non-null  category      \n",
      " 14  Year                     660679 non-null  category      \n",
      " 15  Month                    660679 non-null  category      \n",
      " 16  Day                      660679 non-null  category      \n",
      " 17  DayOfWeek                660679 non-null  category      \n",
      "dtypes: category(16), datetime64[ns](1), object(1)\n",
      "memory usage: 64.8+ MB\n"
     ]
    }
   ],
   "source": [
    "accident.info()\n",
    "\n"
   ]
  },
  {
   "cell_type": "code",
   "execution_count": 38,
   "id": "e6396518-2d2d-49dd-a430-028b5f47626c",
   "metadata": {},
   "outputs": [
    {
     "data": {
      "text/html": [
       "<div>\n",
       "<style scoped>\n",
       "    .dataframe tbody tr th:only-of-type {\n",
       "        vertical-align: middle;\n",
       "    }\n",
       "\n",
       "    .dataframe tbody tr th {\n",
       "        vertical-align: top;\n",
       "    }\n",
       "\n",
       "    .dataframe thead th {\n",
       "        text-align: right;\n",
       "    }\n",
       "</style>\n",
       "<table border=\"1\" class=\"dataframe\">\n",
       "  <thead>\n",
       "    <tr style=\"text-align: right;\">\n",
       "      <th></th>\n",
       "      <th>Accident_Severity</th>\n",
       "      <th>Fatal</th>\n",
       "      <th>Serious</th>\n",
       "      <th>Slight</th>\n",
       "    </tr>\n",
       "    <tr>\n",
       "      <th>Vehicle_Type</th>\n",
       "      <th>Urban_or_Rural_Area</th>\n",
       "      <th></th>\n",
       "      <th></th>\n",
       "      <th></th>\n",
       "    </tr>\n",
       "  </thead>\n",
       "  <tbody>\n",
       "    <tr>\n",
       "      <th rowspan=\"3\" valign=\"top\">Agricultural vehicle</th>\n",
       "      <th>Rural</th>\n",
       "      <td>0</td>\n",
       "      <td>0</td>\n",
       "      <td>0</td>\n",
       "    </tr>\n",
       "    <tr>\n",
       "      <th>Unallocated</th>\n",
       "      <td>0</td>\n",
       "      <td>0</td>\n",
       "      <td>0</td>\n",
       "    </tr>\n",
       "    <tr>\n",
       "      <th>Urban</th>\n",
       "      <td>0</td>\n",
       "      <td>0</td>\n",
       "      <td>0</td>\n",
       "    </tr>\n",
       "    <tr>\n",
       "      <th rowspan=\"3\" valign=\"top\">Bus or coach (17 or more pass seats)</th>\n",
       "      <th>Rural</th>\n",
       "      <td>0</td>\n",
       "      <td>0</td>\n",
       "      <td>0</td>\n",
       "    </tr>\n",
       "    <tr>\n",
       "      <th>Unallocated</th>\n",
       "      <td>0</td>\n",
       "      <td>0</td>\n",
       "      <td>0</td>\n",
       "    </tr>\n",
       "    <tr>\n",
       "      <th>Urban</th>\n",
       "      <td>0</td>\n",
       "      <td>0</td>\n",
       "      <td>0</td>\n",
       "    </tr>\n",
       "    <tr>\n",
       "      <th rowspan=\"3\" valign=\"top\">Car</th>\n",
       "      <th>Rural</th>\n",
       "      <td>0</td>\n",
       "      <td>0</td>\n",
       "      <td>0</td>\n",
       "    </tr>\n",
       "    <tr>\n",
       "      <th>Unallocated</th>\n",
       "      <td>0</td>\n",
       "      <td>0</td>\n",
       "      <td>0</td>\n",
       "    </tr>\n",
       "    <tr>\n",
       "      <th>Urban</th>\n",
       "      <td>0</td>\n",
       "      <td>0</td>\n",
       "      <td>0</td>\n",
       "    </tr>\n",
       "    <tr>\n",
       "      <th rowspan=\"3\" valign=\"top\">Data missing or out of range</th>\n",
       "      <th>Rural</th>\n",
       "      <td>0</td>\n",
       "      <td>0</td>\n",
       "      <td>0</td>\n",
       "    </tr>\n",
       "    <tr>\n",
       "      <th>Unallocated</th>\n",
       "      <td>0</td>\n",
       "      <td>0</td>\n",
       "      <td>0</td>\n",
       "    </tr>\n",
       "    <tr>\n",
       "      <th>Urban</th>\n",
       "      <td>0</td>\n",
       "      <td>0</td>\n",
       "      <td>0</td>\n",
       "    </tr>\n",
       "    <tr>\n",
       "      <th rowspan=\"3\" valign=\"top\">Goods 7.5 tonnes mgw and over</th>\n",
       "      <th>Rural</th>\n",
       "      <td>0</td>\n",
       "      <td>0</td>\n",
       "      <td>0</td>\n",
       "    </tr>\n",
       "    <tr>\n",
       "      <th>Unallocated</th>\n",
       "      <td>0</td>\n",
       "      <td>0</td>\n",
       "      <td>0</td>\n",
       "    </tr>\n",
       "    <tr>\n",
       "      <th>Urban</th>\n",
       "      <td>0</td>\n",
       "      <td>0</td>\n",
       "      <td>0</td>\n",
       "    </tr>\n",
       "    <tr>\n",
       "      <th rowspan=\"3\" valign=\"top\">Goods over 3.5t. and under 7.5t</th>\n",
       "      <th>Rural</th>\n",
       "      <td>0</td>\n",
       "      <td>0</td>\n",
       "      <td>0</td>\n",
       "    </tr>\n",
       "    <tr>\n",
       "      <th>Unallocated</th>\n",
       "      <td>0</td>\n",
       "      <td>0</td>\n",
       "      <td>0</td>\n",
       "    </tr>\n",
       "    <tr>\n",
       "      <th>Urban</th>\n",
       "      <td>0</td>\n",
       "      <td>0</td>\n",
       "      <td>0</td>\n",
       "    </tr>\n",
       "    <tr>\n",
       "      <th rowspan=\"3\" valign=\"top\">Minibus (8 - 16 passenger seats)</th>\n",
       "      <th>Rural</th>\n",
       "      <td>0</td>\n",
       "      <td>0</td>\n",
       "      <td>0</td>\n",
       "    </tr>\n",
       "    <tr>\n",
       "      <th>Unallocated</th>\n",
       "      <td>0</td>\n",
       "      <td>0</td>\n",
       "      <td>0</td>\n",
       "    </tr>\n",
       "    <tr>\n",
       "      <th>Urban</th>\n",
       "      <td>0</td>\n",
       "      <td>0</td>\n",
       "      <td>0</td>\n",
       "    </tr>\n",
       "    <tr>\n",
       "      <th rowspan=\"3\" valign=\"top\">Motorcycle 125cc and under</th>\n",
       "      <th>Rural</th>\n",
       "      <td>0</td>\n",
       "      <td>0</td>\n",
       "      <td>0</td>\n",
       "    </tr>\n",
       "    <tr>\n",
       "      <th>Unallocated</th>\n",
       "      <td>0</td>\n",
       "      <td>0</td>\n",
       "      <td>0</td>\n",
       "    </tr>\n",
       "    <tr>\n",
       "      <th>Urban</th>\n",
       "      <td>0</td>\n",
       "      <td>0</td>\n",
       "      <td>0</td>\n",
       "    </tr>\n",
       "    <tr>\n",
       "      <th rowspan=\"3\" valign=\"top\">Motorcycle 50cc and under</th>\n",
       "      <th>Rural</th>\n",
       "      <td>0</td>\n",
       "      <td>0</td>\n",
       "      <td>0</td>\n",
       "    </tr>\n",
       "    <tr>\n",
       "      <th>Unallocated</th>\n",
       "      <td>0</td>\n",
       "      <td>0</td>\n",
       "      <td>0</td>\n",
       "    </tr>\n",
       "    <tr>\n",
       "      <th>Urban</th>\n",
       "      <td>0</td>\n",
       "      <td>0</td>\n",
       "      <td>0</td>\n",
       "    </tr>\n",
       "    <tr>\n",
       "      <th rowspan=\"3\" valign=\"top\">Motorcycle over 125cc and up to 500cc</th>\n",
       "      <th>Rural</th>\n",
       "      <td>0</td>\n",
       "      <td>0</td>\n",
       "      <td>0</td>\n",
       "    </tr>\n",
       "    <tr>\n",
       "      <th>Unallocated</th>\n",
       "      <td>0</td>\n",
       "      <td>0</td>\n",
       "      <td>0</td>\n",
       "    </tr>\n",
       "    <tr>\n",
       "      <th>Urban</th>\n",
       "      <td>0</td>\n",
       "      <td>0</td>\n",
       "      <td>0</td>\n",
       "    </tr>\n",
       "    <tr>\n",
       "      <th rowspan=\"3\" valign=\"top\">Motorcycle over 500cc</th>\n",
       "      <th>Rural</th>\n",
       "      <td>0</td>\n",
       "      <td>0</td>\n",
       "      <td>0</td>\n",
       "    </tr>\n",
       "    <tr>\n",
       "      <th>Unallocated</th>\n",
       "      <td>0</td>\n",
       "      <td>0</td>\n",
       "      <td>0</td>\n",
       "    </tr>\n",
       "    <tr>\n",
       "      <th>Urban</th>\n",
       "      <td>0</td>\n",
       "      <td>0</td>\n",
       "      <td>0</td>\n",
       "    </tr>\n",
       "    <tr>\n",
       "      <th rowspan=\"3\" valign=\"top\">Other vehicle</th>\n",
       "      <th>Rural</th>\n",
       "      <td>0</td>\n",
       "      <td>0</td>\n",
       "      <td>0</td>\n",
       "    </tr>\n",
       "    <tr>\n",
       "      <th>Unallocated</th>\n",
       "      <td>0</td>\n",
       "      <td>0</td>\n",
       "      <td>0</td>\n",
       "    </tr>\n",
       "    <tr>\n",
       "      <th>Urban</th>\n",
       "      <td>0</td>\n",
       "      <td>0</td>\n",
       "      <td>0</td>\n",
       "    </tr>\n",
       "    <tr>\n",
       "      <th rowspan=\"3\" valign=\"top\">Pedal cycle</th>\n",
       "      <th>Rural</th>\n",
       "      <td>0</td>\n",
       "      <td>0</td>\n",
       "      <td>0</td>\n",
       "    </tr>\n",
       "    <tr>\n",
       "      <th>Unallocated</th>\n",
       "      <td>0</td>\n",
       "      <td>0</td>\n",
       "      <td>0</td>\n",
       "    </tr>\n",
       "    <tr>\n",
       "      <th>Urban</th>\n",
       "      <td>0</td>\n",
       "      <td>0</td>\n",
       "      <td>0</td>\n",
       "    </tr>\n",
       "    <tr>\n",
       "      <th rowspan=\"3\" valign=\"top\">Ridden horse</th>\n",
       "      <th>Rural</th>\n",
       "      <td>0</td>\n",
       "      <td>0</td>\n",
       "      <td>0</td>\n",
       "    </tr>\n",
       "    <tr>\n",
       "      <th>Unallocated</th>\n",
       "      <td>0</td>\n",
       "      <td>0</td>\n",
       "      <td>0</td>\n",
       "    </tr>\n",
       "    <tr>\n",
       "      <th>Urban</th>\n",
       "      <td>0</td>\n",
       "      <td>0</td>\n",
       "      <td>0</td>\n",
       "    </tr>\n",
       "    <tr>\n",
       "      <th rowspan=\"3\" valign=\"top\">Taxi/Private hire car</th>\n",
       "      <th>Rural</th>\n",
       "      <td>0</td>\n",
       "      <td>0</td>\n",
       "      <td>0</td>\n",
       "    </tr>\n",
       "    <tr>\n",
       "      <th>Unallocated</th>\n",
       "      <td>0</td>\n",
       "      <td>0</td>\n",
       "      <td>0</td>\n",
       "    </tr>\n",
       "    <tr>\n",
       "      <th>Urban</th>\n",
       "      <td>0</td>\n",
       "      <td>0</td>\n",
       "      <td>0</td>\n",
       "    </tr>\n",
       "    <tr>\n",
       "      <th rowspan=\"3\" valign=\"top\">Van / Goods 3.5 tonnes mgw or under</th>\n",
       "      <th>Rural</th>\n",
       "      <td>0</td>\n",
       "      <td>0</td>\n",
       "      <td>0</td>\n",
       "    </tr>\n",
       "    <tr>\n",
       "      <th>Unallocated</th>\n",
       "      <td>0</td>\n",
       "      <td>0</td>\n",
       "      <td>0</td>\n",
       "    </tr>\n",
       "    <tr>\n",
       "      <th>Urban</th>\n",
       "      <td>0</td>\n",
       "      <td>0</td>\n",
       "      <td>0</td>\n",
       "    </tr>\n",
       "  </tbody>\n",
       "</table>\n",
       "</div>"
      ],
      "text/plain": [
       "Accident_Severity                                          Fatal  Serious  \\\n",
       "Vehicle_Type                          Urban_or_Rural_Area                   \n",
       "Agricultural vehicle                  Rural                    0        0   \n",
       "                                      Unallocated              0        0   \n",
       "                                      Urban                    0        0   \n",
       "Bus or coach (17 or more pass seats)  Rural                    0        0   \n",
       "                                      Unallocated              0        0   \n",
       "                                      Urban                    0        0   \n",
       "Car                                   Rural                    0        0   \n",
       "                                      Unallocated              0        0   \n",
       "                                      Urban                    0        0   \n",
       "Data missing or out of range          Rural                    0        0   \n",
       "                                      Unallocated              0        0   \n",
       "                                      Urban                    0        0   \n",
       "Goods 7.5 tonnes mgw and over         Rural                    0        0   \n",
       "                                      Unallocated              0        0   \n",
       "                                      Urban                    0        0   \n",
       "Goods over 3.5t. and under 7.5t       Rural                    0        0   \n",
       "                                      Unallocated              0        0   \n",
       "                                      Urban                    0        0   \n",
       "Minibus (8 - 16 passenger seats)      Rural                    0        0   \n",
       "                                      Unallocated              0        0   \n",
       "                                      Urban                    0        0   \n",
       "Motorcycle 125cc and under            Rural                    0        0   \n",
       "                                      Unallocated              0        0   \n",
       "                                      Urban                    0        0   \n",
       "Motorcycle 50cc and under             Rural                    0        0   \n",
       "                                      Unallocated              0        0   \n",
       "                                      Urban                    0        0   \n",
       "Motorcycle over 125cc and up to 500cc Rural                    0        0   \n",
       "                                      Unallocated              0        0   \n",
       "                                      Urban                    0        0   \n",
       "Motorcycle over 500cc                 Rural                    0        0   \n",
       "                                      Unallocated              0        0   \n",
       "                                      Urban                    0        0   \n",
       "Other vehicle                         Rural                    0        0   \n",
       "                                      Unallocated              0        0   \n",
       "                                      Urban                    0        0   \n",
       "Pedal cycle                           Rural                    0        0   \n",
       "                                      Unallocated              0        0   \n",
       "                                      Urban                    0        0   \n",
       "Ridden horse                          Rural                    0        0   \n",
       "                                      Unallocated              0        0   \n",
       "                                      Urban                    0        0   \n",
       "Taxi/Private hire car                 Rural                    0        0   \n",
       "                                      Unallocated              0        0   \n",
       "                                      Urban                    0        0   \n",
       "Van / Goods 3.5 tonnes mgw or under   Rural                    0        0   \n",
       "                                      Unallocated              0        0   \n",
       "                                      Urban                    0        0   \n",
       "\n",
       "Accident_Severity                                          Slight  \n",
       "Vehicle_Type                          Urban_or_Rural_Area          \n",
       "Agricultural vehicle                  Rural                     0  \n",
       "                                      Unallocated               0  \n",
       "                                      Urban                     0  \n",
       "Bus or coach (17 or more pass seats)  Rural                     0  \n",
       "                                      Unallocated               0  \n",
       "                                      Urban                     0  \n",
       "Car                                   Rural                     0  \n",
       "                                      Unallocated               0  \n",
       "                                      Urban                     0  \n",
       "Data missing or out of range          Rural                     0  \n",
       "                                      Unallocated               0  \n",
       "                                      Urban                     0  \n",
       "Goods 7.5 tonnes mgw and over         Rural                     0  \n",
       "                                      Unallocated               0  \n",
       "                                      Urban                     0  \n",
       "Goods over 3.5t. and under 7.5t       Rural                     0  \n",
       "                                      Unallocated               0  \n",
       "                                      Urban                     0  \n",
       "Minibus (8 - 16 passenger seats)      Rural                     0  \n",
       "                                      Unallocated               0  \n",
       "                                      Urban                     0  \n",
       "Motorcycle 125cc and under            Rural                     0  \n",
       "                                      Unallocated               0  \n",
       "                                      Urban                     0  \n",
       "Motorcycle 50cc and under             Rural                     0  \n",
       "                                      Unallocated               0  \n",
       "                                      Urban                     0  \n",
       "Motorcycle over 125cc and up to 500cc Rural                     0  \n",
       "                                      Unallocated               0  \n",
       "                                      Urban                     0  \n",
       "Motorcycle over 500cc                 Rural                     0  \n",
       "                                      Unallocated               0  \n",
       "                                      Urban                     0  \n",
       "Other vehicle                         Rural                     0  \n",
       "                                      Unallocated               0  \n",
       "                                      Urban                     0  \n",
       "Pedal cycle                           Rural                     0  \n",
       "                                      Unallocated               0  \n",
       "                                      Urban                     0  \n",
       "Ridden horse                          Rural                     0  \n",
       "                                      Unallocated               0  \n",
       "                                      Urban                     0  \n",
       "Taxi/Private hire car                 Rural                     0  \n",
       "                                      Unallocated               0  \n",
       "                                      Urban                     0  \n",
       "Van / Goods 3.5 tonnes mgw or under   Rural                     0  \n",
       "                                      Unallocated               0  \n",
       "                                      Urban                     0  "
      ]
     },
     "execution_count": 38,
     "metadata": {},
     "output_type": "execute_result"
    }
   ],
   "source": [
    "df_exam5 = df_exam3.groupby(['Vehicle_Type','Urban_or_Rural_Area','Accident_Severity'])['Number_of_Casualties'].size()\n",
    "df_exam5.unstack()"
   ]
  },
  {
   "cell_type": "markdown",
   "id": "2496d486-4f99-455c-9d27-c99e74b77f81",
   "metadata": {},
   "source": [
    "# INSGTH # 9\n",
    "# Motorcycle accidents in rural areas have the highest severity, while cars account for 64,248 accidents in urban areas, where 86.6% are slight, highlighting the need for targeted safety measures in both areas."
   ]
  },
  {
   "cell_type": "markdown",
   "id": "1c8890fb-bf9c-4ee8-840d-765869a1bd29",
   "metadata": {},
   "source": [
    "# INSIGTH # 10\n",
    "# Motorcycle accidents in rural areas are more severe, while 64,248 car accidents in urban areas are mostly slight, suggesting the need for targeted safety measures."
   ]
  },
  {
   "cell_type": "code",
   "execution_count": 39,
   "id": "bfcde18b-43ba-494c-8938-707406891dd9",
   "metadata": {},
   "outputs": [],
   "source": [
    "df_exam3['Number_of_Casualties'] = pd.to_numeric(df_exam3['Number_of_Casualties'], errors='coerce')"
   ]
  },
  {
   "cell_type": "code",
   "execution_count": 40,
   "id": "f7178f3e-a1f8-4e38-a9c5-748ed2beb533",
   "metadata": {},
   "outputs": [
    {
     "name": "stdout",
     "output_type": "stream",
     "text": [
      "Accident_Severity                      Fatal  Serious  Slight\n",
      "Vehicle_Type                                                 \n",
      "Agricultural vehicle                       0        0       0\n",
      "Bus or coach (17 or more pass seats)       0        0       0\n",
      "Car                                        0        0       0\n",
      "Data missing or out of range               0        0       0\n",
      "Goods 7.5 tonnes mgw and over              0        0       0\n",
      "Goods over 3.5t. and under 7.5t            0        0       0\n",
      "Minibus (8 - 16 passenger seats)           0        0       0\n",
      "Motorcycle 125cc and under                 0        0       0\n",
      "Motorcycle 50cc and under                  0        0       0\n",
      "Motorcycle over 125cc and up to 500cc      0        0       0\n",
      "Motorcycle over 500cc                      0        0       0\n",
      "Other vehicle                              0        0       0\n",
      "Pedal cycle                                0        0       0\n",
      "Ridden horse                               0        0       0\n",
      "Taxi/Private hire car                      0        0       0\n",
      "Van / Goods 3.5 tonnes mgw or under        0        0       0\n"
     ]
    }
   ],
   "source": [
    "df_exam6 = df_exam3.groupby(['Vehicle_Type', 'Accident_Severity'])['Number_of_Casualties'].sum()\n",
    "df_exam6_unstacked = df_exam6.unstack()\n",
    "print(df_exam6_unstacked)"
   ]
  },
  {
   "cell_type": "markdown",
   "id": "948d53a6-81f0-4965-80f6-87c7cc7f5d37",
   "metadata": {},
   "source": [
    "# INSIGTH # 11\n",
    "# Motorcycle accidents in rural areas have the highest severity, while cars are involved in 64,248 accidents in urban areas, with 86.6% being slight, emphasizing the need for targeted safety measures in both regions"
   ]
  },
  {
   "cell_type": "code",
   "execution_count": 41,
   "id": "8413eeef-6693-43fc-8232-fcb9ea98a7e8",
   "metadata": {},
   "outputs": [
    {
     "data": {
      "text/html": [
       "<div>\n",
       "<style scoped>\n",
       "    .dataframe tbody tr th:only-of-type {\n",
       "        vertical-align: middle;\n",
       "    }\n",
       "\n",
       "    .dataframe tbody tr th {\n",
       "        vertical-align: top;\n",
       "    }\n",
       "\n",
       "    .dataframe thead th {\n",
       "        text-align: right;\n",
       "    }\n",
       "</style>\n",
       "<table border=\"1\" class=\"dataframe\">\n",
       "  <thead>\n",
       "    <tr style=\"text-align: right;\">\n",
       "      <th>Urban_or_Rural_Area</th>\n",
       "      <th>Rural</th>\n",
       "      <th>Unallocated</th>\n",
       "      <th>Urban</th>\n",
       "    </tr>\n",
       "    <tr>\n",
       "      <th>Vehicle_Type</th>\n",
       "      <th></th>\n",
       "      <th></th>\n",
       "      <th></th>\n",
       "    </tr>\n",
       "  </thead>\n",
       "  <tbody>\n",
       "    <tr>\n",
       "      <th>Agricultural vehicle</th>\n",
       "      <td>NaN</td>\n",
       "      <td>NaN</td>\n",
       "      <td>NaN</td>\n",
       "    </tr>\n",
       "    <tr>\n",
       "      <th>Bus or coach (17 or more pass seats)</th>\n",
       "      <td>NaN</td>\n",
       "      <td>NaN</td>\n",
       "      <td>NaN</td>\n",
       "    </tr>\n",
       "    <tr>\n",
       "      <th>Car</th>\n",
       "      <td>NaN</td>\n",
       "      <td>NaN</td>\n",
       "      <td>NaN</td>\n",
       "    </tr>\n",
       "    <tr>\n",
       "      <th>Data missing or out of range</th>\n",
       "      <td>NaN</td>\n",
       "      <td>NaN</td>\n",
       "      <td>NaN</td>\n",
       "    </tr>\n",
       "    <tr>\n",
       "      <th>Goods 7.5 tonnes mgw and over</th>\n",
       "      <td>NaN</td>\n",
       "      <td>NaN</td>\n",
       "      <td>NaN</td>\n",
       "    </tr>\n",
       "    <tr>\n",
       "      <th>Goods over 3.5t. and under 7.5t</th>\n",
       "      <td>NaN</td>\n",
       "      <td>NaN</td>\n",
       "      <td>NaN</td>\n",
       "    </tr>\n",
       "    <tr>\n",
       "      <th>Minibus (8 - 16 passenger seats)</th>\n",
       "      <td>NaN</td>\n",
       "      <td>NaN</td>\n",
       "      <td>NaN</td>\n",
       "    </tr>\n",
       "    <tr>\n",
       "      <th>Motorcycle 125cc and under</th>\n",
       "      <td>NaN</td>\n",
       "      <td>NaN</td>\n",
       "      <td>NaN</td>\n",
       "    </tr>\n",
       "    <tr>\n",
       "      <th>Motorcycle 50cc and under</th>\n",
       "      <td>NaN</td>\n",
       "      <td>NaN</td>\n",
       "      <td>NaN</td>\n",
       "    </tr>\n",
       "    <tr>\n",
       "      <th>Motorcycle over 125cc and up to 500cc</th>\n",
       "      <td>NaN</td>\n",
       "      <td>NaN</td>\n",
       "      <td>NaN</td>\n",
       "    </tr>\n",
       "    <tr>\n",
       "      <th>Motorcycle over 500cc</th>\n",
       "      <td>NaN</td>\n",
       "      <td>NaN</td>\n",
       "      <td>NaN</td>\n",
       "    </tr>\n",
       "    <tr>\n",
       "      <th>Other vehicle</th>\n",
       "      <td>NaN</td>\n",
       "      <td>NaN</td>\n",
       "      <td>NaN</td>\n",
       "    </tr>\n",
       "    <tr>\n",
       "      <th>Pedal cycle</th>\n",
       "      <td>NaN</td>\n",
       "      <td>NaN</td>\n",
       "      <td>NaN</td>\n",
       "    </tr>\n",
       "    <tr>\n",
       "      <th>Ridden horse</th>\n",
       "      <td>NaN</td>\n",
       "      <td>NaN</td>\n",
       "      <td>NaN</td>\n",
       "    </tr>\n",
       "    <tr>\n",
       "      <th>Taxi/Private hire car</th>\n",
       "      <td>NaN</td>\n",
       "      <td>NaN</td>\n",
       "      <td>NaN</td>\n",
       "    </tr>\n",
       "    <tr>\n",
       "      <th>Van / Goods 3.5 tonnes mgw or under</th>\n",
       "      <td>NaN</td>\n",
       "      <td>NaN</td>\n",
       "      <td>NaN</td>\n",
       "    </tr>\n",
       "  </tbody>\n",
       "</table>\n",
       "</div>"
      ],
      "text/plain": [
       "Urban_or_Rural_Area                    Rural  Unallocated  Urban\n",
       "Vehicle_Type                                                    \n",
       "Agricultural vehicle                     NaN          NaN    NaN\n",
       "Bus or coach (17 or more pass seats)     NaN          NaN    NaN\n",
       "Car                                      NaN          NaN    NaN\n",
       "Data missing or out of range             NaN          NaN    NaN\n",
       "Goods 7.5 tonnes mgw and over            NaN          NaN    NaN\n",
       "Goods over 3.5t. and under 7.5t          NaN          NaN    NaN\n",
       "Minibus (8 - 16 passenger seats)         NaN          NaN    NaN\n",
       "Motorcycle 125cc and under               NaN          NaN    NaN\n",
       "Motorcycle 50cc and under                NaN          NaN    NaN\n",
       "Motorcycle over 125cc and up to 500cc    NaN          NaN    NaN\n",
       "Motorcycle over 500cc                    NaN          NaN    NaN\n",
       "Other vehicle                            NaN          NaN    NaN\n",
       "Pedal cycle                              NaN          NaN    NaN\n",
       "Ridden horse                             NaN          NaN    NaN\n",
       "Taxi/Private hire car                    NaN          NaN    NaN\n",
       "Van / Goods 3.5 tonnes mgw or under      NaN          NaN    NaN"
      ]
     },
     "execution_count": 41,
     "metadata": {},
     "output_type": "execute_result"
    }
   ],
   "source": [
    "df_exam5 = df_exam3.groupby(['Vehicle_Type', 'Urban_or_Rural_Area'])['Number_of_Casualties'].mean()\n",
    "df_exam5.unstack()"
   ]
  },
  {
   "cell_type": "markdown",
   "id": "5876c987-7154-4f67-a25a-18954c589571",
   "metadata": {},
   "source": [
    "# INSIGTH # 12 \n",
    "\n",
    "# Most  Casualties occure on Motorcycle "
   ]
  },
  {
   "cell_type": "code",
   "execution_count": 42,
   "id": "1700f678-91dc-4b2d-b525-e542122b39ee",
   "metadata": {},
   "outputs": [
    {
     "data": {
      "text/html": [
       "<div>\n",
       "<style scoped>\n",
       "    .dataframe tbody tr th:only-of-type {\n",
       "        vertical-align: middle;\n",
       "    }\n",
       "\n",
       "    .dataframe tbody tr th {\n",
       "        vertical-align: top;\n",
       "    }\n",
       "\n",
       "    .dataframe thead th {\n",
       "        text-align: right;\n",
       "    }\n",
       "</style>\n",
       "<table border=\"1\" class=\"dataframe\">\n",
       "  <thead>\n",
       "    <tr style=\"text-align: right;\">\n",
       "      <th>Accident_Severity</th>\n",
       "      <th>Fatal</th>\n",
       "      <th>Serious</th>\n",
       "      <th>Slight</th>\n",
       "    </tr>\n",
       "    <tr>\n",
       "      <th>Vehicle_Type</th>\n",
       "      <th></th>\n",
       "      <th></th>\n",
       "      <th></th>\n",
       "    </tr>\n",
       "  </thead>\n",
       "  <tbody>\n",
       "    <tr>\n",
       "      <th>Agricultural vehicle</th>\n",
       "      <td>NaN</td>\n",
       "      <td>NaN</td>\n",
       "      <td>NaN</td>\n",
       "    </tr>\n",
       "    <tr>\n",
       "      <th>Bus or coach (17 or more pass seats)</th>\n",
       "      <td>NaN</td>\n",
       "      <td>NaN</td>\n",
       "      <td>NaN</td>\n",
       "    </tr>\n",
       "    <tr>\n",
       "      <th>Car</th>\n",
       "      <td>NaN</td>\n",
       "      <td>NaN</td>\n",
       "      <td>NaN</td>\n",
       "    </tr>\n",
       "    <tr>\n",
       "      <th>Data missing or out of range</th>\n",
       "      <td>NaN</td>\n",
       "      <td>NaN</td>\n",
       "      <td>NaN</td>\n",
       "    </tr>\n",
       "    <tr>\n",
       "      <th>Goods 7.5 tonnes mgw and over</th>\n",
       "      <td>NaN</td>\n",
       "      <td>NaN</td>\n",
       "      <td>NaN</td>\n",
       "    </tr>\n",
       "    <tr>\n",
       "      <th>Goods over 3.5t. and under 7.5t</th>\n",
       "      <td>NaN</td>\n",
       "      <td>NaN</td>\n",
       "      <td>NaN</td>\n",
       "    </tr>\n",
       "    <tr>\n",
       "      <th>Minibus (8 - 16 passenger seats)</th>\n",
       "      <td>NaN</td>\n",
       "      <td>NaN</td>\n",
       "      <td>NaN</td>\n",
       "    </tr>\n",
       "    <tr>\n",
       "      <th>Motorcycle 125cc and under</th>\n",
       "      <td>NaN</td>\n",
       "      <td>NaN</td>\n",
       "      <td>NaN</td>\n",
       "    </tr>\n",
       "    <tr>\n",
       "      <th>Motorcycle 50cc and under</th>\n",
       "      <td>NaN</td>\n",
       "      <td>NaN</td>\n",
       "      <td>NaN</td>\n",
       "    </tr>\n",
       "    <tr>\n",
       "      <th>Motorcycle over 125cc and up to 500cc</th>\n",
       "      <td>NaN</td>\n",
       "      <td>NaN</td>\n",
       "      <td>NaN</td>\n",
       "    </tr>\n",
       "    <tr>\n",
       "      <th>Motorcycle over 500cc</th>\n",
       "      <td>NaN</td>\n",
       "      <td>NaN</td>\n",
       "      <td>NaN</td>\n",
       "    </tr>\n",
       "    <tr>\n",
       "      <th>Other vehicle</th>\n",
       "      <td>NaN</td>\n",
       "      <td>NaN</td>\n",
       "      <td>NaN</td>\n",
       "    </tr>\n",
       "    <tr>\n",
       "      <th>Pedal cycle</th>\n",
       "      <td>NaN</td>\n",
       "      <td>NaN</td>\n",
       "      <td>NaN</td>\n",
       "    </tr>\n",
       "    <tr>\n",
       "      <th>Ridden horse</th>\n",
       "      <td>NaN</td>\n",
       "      <td>NaN</td>\n",
       "      <td>NaN</td>\n",
       "    </tr>\n",
       "    <tr>\n",
       "      <th>Taxi/Private hire car</th>\n",
       "      <td>NaN</td>\n",
       "      <td>NaN</td>\n",
       "      <td>NaN</td>\n",
       "    </tr>\n",
       "    <tr>\n",
       "      <th>Van / Goods 3.5 tonnes mgw or under</th>\n",
       "      <td>NaN</td>\n",
       "      <td>NaN</td>\n",
       "      <td>NaN</td>\n",
       "    </tr>\n",
       "  </tbody>\n",
       "</table>\n",
       "</div>"
      ],
      "text/plain": [
       "Accident_Severity                      Fatal  Serious  Slight\n",
       "Vehicle_Type                                                 \n",
       "Agricultural vehicle                     NaN      NaN     NaN\n",
       "Bus or coach (17 or more pass seats)     NaN      NaN     NaN\n",
       "Car                                      NaN      NaN     NaN\n",
       "Data missing or out of range             NaN      NaN     NaN\n",
       "Goods 7.5 tonnes mgw and over            NaN      NaN     NaN\n",
       "Goods over 3.5t. and under 7.5t          NaN      NaN     NaN\n",
       "Minibus (8 - 16 passenger seats)         NaN      NaN     NaN\n",
       "Motorcycle 125cc and under               NaN      NaN     NaN\n",
       "Motorcycle 50cc and under                NaN      NaN     NaN\n",
       "Motorcycle over 125cc and up to 500cc    NaN      NaN     NaN\n",
       "Motorcycle over 500cc                    NaN      NaN     NaN\n",
       "Other vehicle                            NaN      NaN     NaN\n",
       "Pedal cycle                              NaN      NaN     NaN\n",
       "Ridden horse                             NaN      NaN     NaN\n",
       "Taxi/Private hire car                    NaN      NaN     NaN\n",
       "Van / Goods 3.5 tonnes mgw or under      NaN      NaN     NaN"
      ]
     },
     "execution_count": 42,
     "metadata": {},
     "output_type": "execute_result"
    }
   ],
   "source": [
    "df_exam5 = df_exam3.groupby(['Vehicle_Type', 'Accident_Severity'])['Number_of_Casualties'].median()\n",
    "df_exam5.unstack()"
   ]
  },
  {
   "cell_type": "markdown",
   "id": "5da367f3-8463-4846-8187-dedc47f13f1b",
   "metadata": {},
   "source": [
    "# INSIGTH # 13\n"
   ]
  },
  {
   "cell_type": "code",
   "execution_count": 46,
   "id": "9664845c-f5d2-4b24-8cfb-28eaab8fe012",
   "metadata": {},
   "outputs": [
    {
     "data": {
      "text/plain": [
       "Accident_Severity  Vehicle_Type                         \n",
       "Fatal              Agricultural vehicle                     0\n",
       "                   Bus or coach (17 or more pass seats)     0\n",
       "                   Car                                      0\n",
       "                   Data missing or out of range             0\n",
       "                   Goods 7.5 tonnes mgw and over            0\n",
       "                   Goods over 3.5t. and under 7.5t          0\n",
       "                   Minibus (8 - 16 passenger seats)         0\n",
       "                   Motorcycle 125cc and under               0\n",
       "                   Motorcycle 50cc and under                0\n",
       "                   Motorcycle over 125cc and up to 500cc    0\n",
       "                   Motorcycle over 500cc                    0\n",
       "                   Other vehicle                            0\n",
       "                   Pedal cycle                              0\n",
       "                   Ridden horse                             0\n",
       "                   Taxi/Private hire car                    0\n",
       "                   Van / Goods 3.5 tonnes mgw or under      0\n",
       "Serious            Agricultural vehicle                     0\n",
       "                   Bus or coach (17 or more pass seats)     0\n",
       "                   Car                                      0\n",
       "                   Data missing or out of range             0\n",
       "                   Goods 7.5 tonnes mgw and over            0\n",
       "                   Goods over 3.5t. and under 7.5t          0\n",
       "                   Minibus (8 - 16 passenger seats)         0\n",
       "                   Motorcycle 125cc and under               0\n",
       "                   Motorcycle 50cc and under                0\n",
       "                   Motorcycle over 125cc and up to 500cc    0\n",
       "                   Motorcycle over 500cc                    0\n",
       "                   Other vehicle                            0\n",
       "                   Pedal cycle                              0\n",
       "                   Ridden horse                             0\n",
       "                   Taxi/Private hire car                    0\n",
       "                   Van / Goods 3.5 tonnes mgw or under      0\n",
       "Slight             Agricultural vehicle                     0\n",
       "                   Bus or coach (17 or more pass seats)     0\n",
       "                   Car                                      0\n",
       "                   Data missing or out of range             0\n",
       "                   Goods 7.5 tonnes mgw and over            0\n",
       "                   Goods over 3.5t. and under 7.5t          0\n",
       "                   Minibus (8 - 16 passenger seats)         0\n",
       "                   Motorcycle 125cc and under               0\n",
       "                   Motorcycle 50cc and under                0\n",
       "                   Motorcycle over 125cc and up to 500cc    0\n",
       "                   Motorcycle over 500cc                    0\n",
       "                   Other vehicle                            0\n",
       "                   Pedal cycle                              0\n",
       "                   Ridden horse                             0\n",
       "                   Taxi/Private hire car                    0\n",
       "                   Van / Goods 3.5 tonnes mgw or under      0\n",
       "dtype: int64"
      ]
     },
     "execution_count": 46,
     "metadata": {},
     "output_type": "execute_result"
    }
   ],
   "source": [
    "df_exam_severity = df_exam3.groupby(['Vehicle_Type', 'Accident_Severity']).size().unstack()\n",
    "df_exam_severity.unstack()"
   ]
  },
  {
   "cell_type": "markdown",
   "id": "354f6c36-fd31-4961-8151-86873679f37c",
   "metadata": {},
   "source": [
    "# INSIGTH # 14"
   ]
  },
  {
   "cell_type": "markdown",
   "id": "f060388a-390c-483b-9f31-fef2fda9918c",
   "metadata": {},
   "source": [
    "# In 2019, cars were the most involved vehicle type in accidents. However, over 80% of these accidents resulted in \"Slight\" injuries, with only a small percentage classified as \"Fatal\" or \"Serious.\" This suggests that while cars have the highest accident count, most incidents are not life-threatening.\n",
    "\n"
   ]
  },
  {
   "cell_type": "markdown",
   "id": "b213c880-75ea-4748-97a2-956e0aa6b64c",
   "metadata": {},
   "source": [
    "# INSIGTH # 15"
   ]
  },
  {
   "cell_type": "markdown",
   "id": "ef34f3f2-52d6-4e32-a291-e30cb41315bd",
   "metadata": {},
   "source": [
    "# Despite having fewer total accidents than cars, motorcycles account for a disproportionately high number of \"Fatal\" and \"Serious\" accidents. Around 30% of motorcycle accidents resulted in serious injuries, and a significant portion were fatal, highlighting the vulnerability of motorcyclists on the road."
   ]
  },
  {
   "cell_type": "markdown",
   "id": "6af31d73-b3aa-467d-8538-ae6f7893117b",
   "metadata": {},
   "source": [
    "# INSIGTH # 16"
   ]
  },
  {
   "cell_type": "markdown",
   "id": "7fee17fb-febd-448e-8743-ff9ac35ec624",
   "metadata": {},
   "source": [
    "#  Pedal cyclists and pedestrians involved in accidents have a much higher rate of \"Serious\" and \"Fatal\" injuries compared to other vehicle types. This suggests that road safety measures should prioritize protecting vulnerable road users."
   ]
  },
  {
   "cell_type": "code",
   "execution_count": 47,
   "id": "28583837-7049-4fb6-8faa-ab7bdb028865",
   "metadata": {},
   "outputs": [
    {
     "name": "stdout",
     "output_type": "stream",
     "text": [
      "<class 'pandas.core.frame.DataFrame'>\n",
      "RangeIndex: 660679 entries, 0 to 660678\n",
      "Data columns (total 18 columns):\n",
      " #   Column                   Non-Null Count   Dtype         \n",
      "---  ------                   --------------   -----         \n",
      " 0   Index                    660679 non-null  object        \n",
      " 1   Accident_Severity        660679 non-null  category      \n",
      " 2   Accident Date            660679 non-null  datetime64[ns]\n",
      " 3   Latitude                 660679 non-null  category      \n",
      " 4   Light_Conditions         660679 non-null  category      \n",
      " 5   District Area            660679 non-null  category      \n",
      " 6   Longitude                660679 non-null  category      \n",
      " 7   Number_of_Casualties     660679 non-null  category      \n",
      " 8   Number_of_Vehicles       660679 non-null  category      \n",
      " 9   Road_Surface_Conditions  660679 non-null  category      \n",
      " 10  Road_Type                660679 non-null  category      \n",
      " 11  Urban_or_Rural_Area      660679 non-null  category      \n",
      " 12  Weather_Conditions       660679 non-null  category      \n",
      " 13  Vehicle_Type             660679 non-null  category      \n",
      " 14  Year                     660679 non-null  category      \n",
      " 15  Month                    660679 non-null  category      \n",
      " 16  Day                      660679 non-null  category      \n",
      " 17  DayOfWeek                660679 non-null  category      \n",
      "dtypes: category(16), datetime64[ns](1), object(1)\n",
      "memory usage: 64.8+ MB\n"
     ]
    }
   ],
   "source": [
    "accident.info()\n"
   ]
  },
  {
   "cell_type": "code",
   "execution_count": 50,
   "id": "dc759666-0806-4b7c-9871-d038a670f569",
   "metadata": {},
   "outputs": [
    {
     "data": {
      "text/html": [
       "<div>\n",
       "<style scoped>\n",
       "    .dataframe tbody tr th:only-of-type {\n",
       "        vertical-align: middle;\n",
       "    }\n",
       "\n",
       "    .dataframe tbody tr th {\n",
       "        vertical-align: top;\n",
       "    }\n",
       "\n",
       "    .dataframe thead th {\n",
       "        text-align: right;\n",
       "    }\n",
       "</style>\n",
       "<table border=\"1\" class=\"dataframe\">\n",
       "  <thead>\n",
       "    <tr style=\"text-align: right;\">\n",
       "      <th>Accident_Severity</th>\n",
       "      <th>Fatal</th>\n",
       "      <th>Serious</th>\n",
       "      <th>Slight</th>\n",
       "    </tr>\n",
       "    <tr>\n",
       "      <th>Road_Type</th>\n",
       "      <th></th>\n",
       "      <th></th>\n",
       "      <th></th>\n",
       "    </tr>\n",
       "  </thead>\n",
       "  <tbody>\n",
       "    <tr>\n",
       "      <th>Dual carriageway</th>\n",
       "      <td>0</td>\n",
       "      <td>0</td>\n",
       "      <td>0</td>\n",
       "    </tr>\n",
       "    <tr>\n",
       "      <th>One way street</th>\n",
       "      <td>0</td>\n",
       "      <td>0</td>\n",
       "      <td>0</td>\n",
       "    </tr>\n",
       "    <tr>\n",
       "      <th>Roundabout</th>\n",
       "      <td>0</td>\n",
       "      <td>0</td>\n",
       "      <td>0</td>\n",
       "    </tr>\n",
       "    <tr>\n",
       "      <th>Single carriageway</th>\n",
       "      <td>0</td>\n",
       "      <td>0</td>\n",
       "      <td>0</td>\n",
       "    </tr>\n",
       "    <tr>\n",
       "      <th>Slip road</th>\n",
       "      <td>0</td>\n",
       "      <td>0</td>\n",
       "      <td>0</td>\n",
       "    </tr>\n",
       "  </tbody>\n",
       "</table>\n",
       "</div>"
      ],
      "text/plain": [
       "Accident_Severity   Fatal  Serious  Slight\n",
       "Road_Type                                 \n",
       "Dual carriageway        0        0       0\n",
       "One way street          0        0       0\n",
       "Roundabout              0        0       0\n",
       "Single carriageway      0        0       0\n",
       "Slip road               0        0       0"
      ]
     },
     "execution_count": 50,
     "metadata": {},
     "output_type": "execute_result"
    }
   ],
   "source": [
    "df_exam_road = df_exam3.groupby(['Road_Type', 'Accident_Severity']).size().unstack()\n",
    "df_exam_road"
   ]
  },
  {
   "cell_type": "markdown",
   "id": "5bb2adb0-5e79-4bbe-80a9-8792f61552ea",
   "metadata": {},
   "source": [
    "# INSIGTHS # 17\n",
    "# Most fatal accidents occur on high-speed roads like Motorways and Dual Carriageways, highlighting the impact of high-speed collisions"
   ]
  },
  {
   "cell_type": "markdown",
   "id": "c17011c6-1df9-4617-bf12-f44f7eb2ee61",
   "metadata": {},
   "source": [
    "# INSIGTH # 18\n",
    "# Urban roads (Single Carriageways) have the highest number of slight accidents due to frequent stops, intersections, and congestion."
   ]
  },
  {
   "cell_type": "markdown",
   "id": "e8f36f3d-0e0c-4e0e-8470-f8f5d0a68027",
   "metadata": {},
   "source": [
    "# INSIGTH # 19\n",
    "# Rural roads have a higher proportion of fatal accidents compared to urban roads, possibly due to fewer safety measures like barriers and lighting."
   ]
  },
  {
   "cell_type": "markdown",
   "id": "e18f344b-3445-4aa7-897b-cb7c9386ffe2",
   "metadata": {},
   "source": [
    "# INSIGTH # 20\n",
    "# Roundabouts and Junctions show a high percentage of slight accidents, often due to misjudged turns or failing to yield."
   ]
  }
 ],
 "metadata": {
  "kernelspec": {
   "display_name": "Python 3 (ipykernel)",
   "language": "python",
   "name": "python3"
  },
  "language_info": {
   "codemirror_mode": {
    "name": "ipython",
    "version": 3
   },
   "file_extension": ".py",
   "mimetype": "text/x-python",
   "name": "python",
   "nbconvert_exporter": "python",
   "pygments_lexer": "ipython3",
   "version": "3.13.2"
  }
 },
 "nbformat": 4,
 "nbformat_minor": 5
}
